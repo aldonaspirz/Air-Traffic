{
 "cells": [
  {
   "cell_type": "code",
   "execution_count": 16,
   "metadata": {},
   "outputs": [],
   "source": [
    "import pandas as pd\n",
    "import numpy as np\n",
    "import seaborn as sns\n",
    "from matplotlib import pyplot as plt\n",
    "\n",
    "import matplotlib.pyplot as plt\n",
    "import missingno as msno\n"
   ]
  },
  {
   "cell_type": "code",
   "execution_count": 3,
   "metadata": {},
   "outputs": [],
   "source": [
    "df=pd.read_csv('Air_Traffic_Passenger_Statistics.csv')"
   ]
  },
  {
   "cell_type": "code",
   "execution_count": 4,
   "metadata": {},
   "outputs": [
    {
     "data": {
      "text/plain": [
       "<bound method DataFrame.info of        Activity Period Operating Airline Operating Airline IATA Code  \\\n",
       "0               200507      ATA Airlines                          TZ   \n",
       "1               200507      ATA Airlines                          TZ   \n",
       "2               200507      ATA Airlines                          TZ   \n",
       "3               200507       Air Canada                           AC   \n",
       "4               200507       Air Canada                           AC   \n",
       "...                ...               ...                         ...   \n",
       "15002           201603    Virgin America                          VX   \n",
       "15003           201603    Virgin America                          VX   \n",
       "15004           201603    Virgin America                          VX   \n",
       "15005           201603   Virgin Atlantic                          VS   \n",
       "15006           201603   Virgin Atlantic                          VS   \n",
       "\n",
       "      Published Airline Published Airline IATA Code    GEO Summary GEO Region  \\\n",
       "0          ATA Airlines                          TZ       Domestic         US   \n",
       "1          ATA Airlines                          TZ       Domestic         US   \n",
       "2          ATA Airlines                          TZ       Domestic         US   \n",
       "3           Air Canada                           AC  International     Canada   \n",
       "4           Air Canada                           AC  International     Canada   \n",
       "...                 ...                         ...            ...        ...   \n",
       "15002    Virgin America                          VX       Domestic         US   \n",
       "15003    Virgin America                          VX  International     Mexico   \n",
       "15004    Virgin America                          VX  International     Mexico   \n",
       "15005   Virgin Atlantic                          VS  International     Europe   \n",
       "15006   Virgin Atlantic                          VS  International     Europe   \n",
       "\n",
       "      Activity Type Code Price Category Code       Terminal Boarding Area  \\\n",
       "0               Deplaned            Low Fare     Terminal 1             B   \n",
       "1               Enplaned            Low Fare     Terminal 1             B   \n",
       "2         Thru / Transit            Low Fare     Terminal 1             B   \n",
       "3               Deplaned               Other     Terminal 1             B   \n",
       "4               Enplaned               Other     Terminal 1             B   \n",
       "...                  ...                 ...            ...           ...   \n",
       "15002           Enplaned            Low Fare     Terminal 2             D   \n",
       "15003           Deplaned            Low Fare  International             A   \n",
       "15004           Enplaned            Low Fare     Terminal 2             D   \n",
       "15005           Deplaned               Other  International             A   \n",
       "15006           Enplaned               Other  International             A   \n",
       "\n",
       "       Passenger Count Adjusted Activity Type Code  Adjusted Passenger Count  \\\n",
       "0                27271                    Deplaned                     27271   \n",
       "1                29131                    Enplaned                     29131   \n",
       "2                 5415          Thru / Transit * 2                     10830   \n",
       "3                35156                    Deplaned                     35156   \n",
       "4                34090                    Enplaned                     34090   \n",
       "...                ...                         ...                       ...   \n",
       "15002           194636                    Enplaned                    194636   \n",
       "15003             4189                    Deplaned                      4189   \n",
       "15004             4693                    Enplaned                      4693   \n",
       "15005            12313                    Deplaned                     12313   \n",
       "15006            10898                    Enplaned                     10898   \n",
       "\n",
       "       Year  Month  \n",
       "0      2005   July  \n",
       "1      2005   July  \n",
       "2      2005   July  \n",
       "3      2005   July  \n",
       "4      2005   July  \n",
       "...     ...    ...  \n",
       "15002  2016  March  \n",
       "15003  2016  March  \n",
       "15004  2016  March  \n",
       "15005  2016  March  \n",
       "15006  2016  March  \n",
       "\n",
       "[15007 rows x 16 columns]>"
      ]
     },
     "execution_count": 4,
     "metadata": {},
     "output_type": "execute_result"
    }
   ],
   "source": [
    "df.info"
   ]
  },
  {
   "cell_type": "code",
   "execution_count": 5,
   "metadata": {},
   "outputs": [
    {
     "data": {
      "text/html": [
       "<div>\n",
       "<style scoped>\n",
       "    .dataframe tbody tr th:only-of-type {\n",
       "        vertical-align: middle;\n",
       "    }\n",
       "\n",
       "    .dataframe tbody tr th {\n",
       "        vertical-align: top;\n",
       "    }\n",
       "\n",
       "    .dataframe thead th {\n",
       "        text-align: right;\n",
       "    }\n",
       "</style>\n",
       "<table border=\"1\" class=\"dataframe\">\n",
       "  <thead>\n",
       "    <tr style=\"text-align: right;\">\n",
       "      <th></th>\n",
       "      <th>Activity Period</th>\n",
       "      <th>Operating Airline</th>\n",
       "      <th>Operating Airline IATA Code</th>\n",
       "      <th>Published Airline</th>\n",
       "      <th>Published Airline IATA Code</th>\n",
       "      <th>GEO Summary</th>\n",
       "      <th>GEO Region</th>\n",
       "      <th>Activity Type Code</th>\n",
       "      <th>Price Category Code</th>\n",
       "      <th>Terminal</th>\n",
       "      <th>Boarding Area</th>\n",
       "      <th>Passenger Count</th>\n",
       "      <th>Adjusted Activity Type Code</th>\n",
       "      <th>Adjusted Passenger Count</th>\n",
       "      <th>Year</th>\n",
       "      <th>Month</th>\n",
       "    </tr>\n",
       "  </thead>\n",
       "  <tbody>\n",
       "    <tr>\n",
       "      <th>0</th>\n",
       "      <td>200507</td>\n",
       "      <td>ATA Airlines</td>\n",
       "      <td>TZ</td>\n",
       "      <td>ATA Airlines</td>\n",
       "      <td>TZ</td>\n",
       "      <td>Domestic</td>\n",
       "      <td>US</td>\n",
       "      <td>Deplaned</td>\n",
       "      <td>Low Fare</td>\n",
       "      <td>Terminal 1</td>\n",
       "      <td>B</td>\n",
       "      <td>27271</td>\n",
       "      <td>Deplaned</td>\n",
       "      <td>27271</td>\n",
       "      <td>2005</td>\n",
       "      <td>July</td>\n",
       "    </tr>\n",
       "    <tr>\n",
       "      <th>1</th>\n",
       "      <td>200507</td>\n",
       "      <td>ATA Airlines</td>\n",
       "      <td>TZ</td>\n",
       "      <td>ATA Airlines</td>\n",
       "      <td>TZ</td>\n",
       "      <td>Domestic</td>\n",
       "      <td>US</td>\n",
       "      <td>Enplaned</td>\n",
       "      <td>Low Fare</td>\n",
       "      <td>Terminal 1</td>\n",
       "      <td>B</td>\n",
       "      <td>29131</td>\n",
       "      <td>Enplaned</td>\n",
       "      <td>29131</td>\n",
       "      <td>2005</td>\n",
       "      <td>July</td>\n",
       "    </tr>\n",
       "    <tr>\n",
       "      <th>2</th>\n",
       "      <td>200507</td>\n",
       "      <td>ATA Airlines</td>\n",
       "      <td>TZ</td>\n",
       "      <td>ATA Airlines</td>\n",
       "      <td>TZ</td>\n",
       "      <td>Domestic</td>\n",
       "      <td>US</td>\n",
       "      <td>Thru / Transit</td>\n",
       "      <td>Low Fare</td>\n",
       "      <td>Terminal 1</td>\n",
       "      <td>B</td>\n",
       "      <td>5415</td>\n",
       "      <td>Thru / Transit * 2</td>\n",
       "      <td>10830</td>\n",
       "      <td>2005</td>\n",
       "      <td>July</td>\n",
       "    </tr>\n",
       "    <tr>\n",
       "      <th>3</th>\n",
       "      <td>200507</td>\n",
       "      <td>Air Canada</td>\n",
       "      <td>AC</td>\n",
       "      <td>Air Canada</td>\n",
       "      <td>AC</td>\n",
       "      <td>International</td>\n",
       "      <td>Canada</td>\n",
       "      <td>Deplaned</td>\n",
       "      <td>Other</td>\n",
       "      <td>Terminal 1</td>\n",
       "      <td>B</td>\n",
       "      <td>35156</td>\n",
       "      <td>Deplaned</td>\n",
       "      <td>35156</td>\n",
       "      <td>2005</td>\n",
       "      <td>July</td>\n",
       "    </tr>\n",
       "    <tr>\n",
       "      <th>4</th>\n",
       "      <td>200507</td>\n",
       "      <td>Air Canada</td>\n",
       "      <td>AC</td>\n",
       "      <td>Air Canada</td>\n",
       "      <td>AC</td>\n",
       "      <td>International</td>\n",
       "      <td>Canada</td>\n",
       "      <td>Enplaned</td>\n",
       "      <td>Other</td>\n",
       "      <td>Terminal 1</td>\n",
       "      <td>B</td>\n",
       "      <td>34090</td>\n",
       "      <td>Enplaned</td>\n",
       "      <td>34090</td>\n",
       "      <td>2005</td>\n",
       "      <td>July</td>\n",
       "    </tr>\n",
       "  </tbody>\n",
       "</table>\n",
       "</div>"
      ],
      "text/plain": [
       "   Activity Period Operating Airline Operating Airline IATA Code  \\\n",
       "0           200507      ATA Airlines                          TZ   \n",
       "1           200507      ATA Airlines                          TZ   \n",
       "2           200507      ATA Airlines                          TZ   \n",
       "3           200507       Air Canada                           AC   \n",
       "4           200507       Air Canada                           AC   \n",
       "\n",
       "  Published Airline Published Airline IATA Code    GEO Summary GEO Region  \\\n",
       "0      ATA Airlines                          TZ       Domestic         US   \n",
       "1      ATA Airlines                          TZ       Domestic         US   \n",
       "2      ATA Airlines                          TZ       Domestic         US   \n",
       "3       Air Canada                           AC  International     Canada   \n",
       "4       Air Canada                           AC  International     Canada   \n",
       "\n",
       "  Activity Type Code Price Category Code    Terminal Boarding Area  \\\n",
       "0           Deplaned            Low Fare  Terminal 1             B   \n",
       "1           Enplaned            Low Fare  Terminal 1             B   \n",
       "2     Thru / Transit            Low Fare  Terminal 1             B   \n",
       "3           Deplaned               Other  Terminal 1             B   \n",
       "4           Enplaned               Other  Terminal 1             B   \n",
       "\n",
       "   Passenger Count Adjusted Activity Type Code  Adjusted Passenger Count  \\\n",
       "0            27271                    Deplaned                     27271   \n",
       "1            29131                    Enplaned                     29131   \n",
       "2             5415          Thru / Transit * 2                     10830   \n",
       "3            35156                    Deplaned                     35156   \n",
       "4            34090                    Enplaned                     34090   \n",
       "\n",
       "   Year Month  \n",
       "0  2005  July  \n",
       "1  2005  July  \n",
       "2  2005  July  \n",
       "3  2005  July  \n",
       "4  2005  July  "
      ]
     },
     "execution_count": 5,
     "metadata": {},
     "output_type": "execute_result"
    }
   ],
   "source": [
    "df.head()"
   ]
  },
  {
   "cell_type": "code",
   "execution_count": 6,
   "metadata": {},
   "outputs": [
    {
     "data": {
      "text/plain": [
       "Index(['Activity Period', 'Operating Airline', 'Operating Airline IATA Code',\n",
       "       'Published Airline', 'Published Airline IATA Code', 'GEO Summary',\n",
       "       'GEO Region', 'Activity Type Code', 'Price Category Code', 'Terminal',\n",
       "       'Boarding Area', 'Passenger Count', 'Adjusted Activity Type Code',\n",
       "       'Adjusted Passenger Count', 'Year', 'Month'],\n",
       "      dtype='object')"
      ]
     },
     "execution_count": 6,
     "metadata": {},
     "output_type": "execute_result"
    }
   ],
   "source": [
    "df.columns"
   ]
  },
  {
   "cell_type": "code",
   "execution_count": 11,
   "metadata": {},
   "outputs": [
    {
     "data": {
      "text/plain": [
       "count     15007.000000\n",
       "mean      29331.917105\n",
       "std       58284.182219\n",
       "min           1.000000\n",
       "25%        5495.500000\n",
       "50%        9354.000000\n",
       "75%       21182.000000\n",
       "max      659837.000000\n",
       "Name: Adjusted Passenger Count, dtype: float64"
      ]
     },
     "execution_count": 11,
     "metadata": {},
     "output_type": "execute_result"
    }
   ],
   "source": [
    "df['Adjusted Passenger Count'].describe()"
   ]
  },
  {
   "cell_type": "code",
   "execution_count": 12,
   "metadata": {},
   "outputs": [
    {
     "data": {
      "text/plain": [
       "count     15007.000000\n",
       "mean      29240.521090\n",
       "std       58319.509284\n",
       "min           1.000000\n",
       "25%        5373.500000\n",
       "50%        9210.000000\n",
       "75%       21158.500000\n",
       "max      659837.000000\n",
       "Name: Passenger Count, dtype: float64"
      ]
     },
     "execution_count": 12,
     "metadata": {},
     "output_type": "execute_result"
    }
   ],
   "source": [
    "df['Passenger Count'].describe()"
   ]
  },
  {
   "cell_type": "code",
   "execution_count": 13,
   "metadata": {},
   "outputs": [
    {
     "name": "stderr",
     "output_type": "stream",
     "text": [
      "Summarize dataset: 100%|██████████| 29/29 [00:09<00:00,  3.13it/s, Completed]\n",
      "Generate report structure: 100%|██████████| 1/1 [00:05<00:00,  5.77s/it]\n",
      "Render HTML: 100%|██████████| 1/1 [00:01<00:00,  1.03s/it]\n",
      "Export report to file: 100%|██████████| 1/1 [00:00<00:00, 143.33it/s]\n"
     ]
    }
   ],
   "source": [
    "from pandas_profiling import ProfileReport\n",
    "prof = ProfileReport(df)\n",
    "prof.to_file(output_file='output.html')"
   ]
  },
  {
   "cell_type": "code",
   "execution_count": 14,
   "metadata": {},
   "outputs": [
    {
     "data": {
      "text/plain": [
       "<AxesSubplot:>"
      ]
     },
     "execution_count": 14,
     "metadata": {},
     "output_type": "execute_result"
    },
    {
     "data": {
      "image/png": "[encoded data removed]",
      "text/plain": [
       "<Figure size 432x288 with 1 Axes>"
      ]
     },
     "metadata": {
      "needs_background": "light"
     },
     "output_type": "display_data"
    }
   ],
   "source": [
    "np.log10(df['Passenger Count']).hist(bins=100)"
   ]
  },
  {
   "cell_type": "code",
   "execution_count": 17,
   "metadata": {},
   "outputs": [
    {
     "data": {
      "text/plain": [
       "<AxesSubplot:>"
      ]
     },
     "execution_count": 17,
     "metadata": {},
     "output_type": "execute_result"
    },
    {
     "data": {
      "image/png": "[encoded data removed]",
      "text/plain": [
       "<Figure size 1800x720 with 2 Axes>"
      ]
     },
     "metadata": {
      "needs_background": "light"
     },
     "output_type": "display_data"
    }
   ],
   "source": [
    "msno.matrix(df.sample(250))"
   ]
  },
  {
   "cell_type": "code",
   "execution_count": 18,
   "metadata": {},
   "outputs": [],
   "source": [
    "df['Operating_Airline_cat']=df['Operating Airline'].factorize()[0]"
   ]
  },
  {
   "cell_type": "code",
   "execution_count": 19,
   "metadata": {},
   "outputs": [
    {
     "data": {
      "text/plain": [
       "count    15007.000000\n",
       "mean        28.983941\n",
       "std         17.112876\n",
       "min          0.000000\n",
       "25%         15.000000\n",
       "50%         33.000000\n",
       "75%         38.000000\n",
       "max         76.000000\n",
       "Name: Operating_Airline_cat, dtype: float64"
      ]
     },
     "execution_count": 19,
     "metadata": {},
     "output_type": "execute_result"
    }
   ],
   "source": [
    "df['Operating_Airline_cat'].describe()"
   ]
  },
  {
   "cell_type": "code",
   "execution_count": 21,
   "metadata": {},
   "outputs": [
    {
     "data": {
      "text/plain": [
       "array([ 0,  1,  2,  3,  4,  5,  6,  7,  8,  9, 10, 11, 12, 13, 14, 15, 16,\n",
       "       17, 18, 19, 20, 21, 22, 23, 24, 25, 26, 27, 28, 29, 30, 31, 32, 33,\n",
       "       34, 35, 36, 37, 38, 39, 40, 41, 42, 43, 44, 45, 46, 47, 48, 49, 50,\n",
       "       51, 52, 53, 54, 55, 56, 57, 58, 59, 60, 61, 62, 63, 64, 65, 66, 67,\n",
       "       68, 69, 70, 71, 72, 73, 74, 75, 76], dtype=int64)"
      ]
     },
     "execution_count": 21,
     "metadata": {},
     "output_type": "execute_result"
    }
   ],
   "source": [
    "df['Operating_Airline_cat'].unique()"
   ]
  },
  {
   "cell_type": "code",
   "execution_count": 25,
   "metadata": {},
   "outputs": [
    {
     "data": {
      "text/plain": [
       "Index(['Activity Period', 'Operating Airline', 'Operating Airline IATA Code',\n",
       "       'Published Airline', 'Published Airline IATA Code', 'GEO Summary',\n",
       "       'GEO Region', 'Activity Type Code', 'Price Category Code', 'Terminal',\n",
       "       'Boarding Area', 'Passenger Count', 'Adjusted Activity Type Code',\n",
       "       'Adjusted Passenger Count', 'Year', 'Month', 'Operating_Airline_cat'],\n",
       "      dtype='object')"
      ]
     },
     "execution_count": 25,
     "metadata": {},
     "output_type": "execute_result"
    }
   ],
   "source": [
    "df.columns"
   ]
  },
  {
   "cell_type": "code",
   "execution_count": 38,
   "metadata": {},
   "outputs": [
    {
     "data": {
      "text/plain": [
       "<AxesSubplot:ylabel='Frequency'>"
      ]
     },
     "execution_count": 38,
     "metadata": {},
     "output_type": "execute_result"
    },
    {
     "data": {
      "image/png": "[encoded data removed]",
      "text/plain": [
       "<Figure size 432x288 with 1 Axes>"
      ]
     },
     "metadata": {
      "needs_background": "light"
     },
     "output_type": "display_data"
    }
   ],
   "source": [
    "df.plot(x='Passenger Count', y='Year',kind='hist')\n"
   ]
  },
  {
   "cell_type": "code",
   "execution_count": null,
   "metadata": {},
   "outputs": [],
   "source": []
  }
 ],
 "metadata": {
  "interpreter": {
   "hash": "b360ce436bf7810a4e42c14c0db6bed23279072568ea20b740d3dd5a7192a238"
  },
  "kernelspec": {
   "display_name": "Python 3.8.5 64-bit ('base': conda)",
   "name": "python3"
  },
  "language_info": {
   "codemirror_mode": {
    "name": "ipython",
    "version": 3
   },
   "file_extension": ".py",
   "mimetype": "text/x-python",
   "name": "python",
   "nbconvert_exporter": "python",
   "pygments_lexer": "ipython3",
   "version": "3.8.5"
  },
  "orig_nbformat": 4
 },
 "nbformat": 4,
 "nbformat_minor": 2
}
